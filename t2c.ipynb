{
 "cells": [
  {
   "cell_type": "code",
   "execution_count": 1,
   "id": "5d5d73eb-cd7f-4f90-8421-deabd606599a",
   "metadata": {
    "id": "5d5d73eb-cd7f-4f90-8421-deabd606599a"
   },
   "outputs": [],
   "source": [
    "import pandas as pd\n",
    "import py4cytoscape as p4c\n",
    "import time\n",
    "import requests"
   ]
  },
  {
   "cell_type": "code",
   "execution_count": 2,
   "id": "e4baf081-fe0e-4a5f-9719-fbde8595fe05",
   "metadata": {
    "id": "e4baf081-fe0e-4a5f-9719-fbde8595fe05",
    "outputId": "8e8b806d-da1b-47e7-8973-713bb1a7f2e2"
   },
   "outputs": [
    {
     "data": {
      "text/plain": [
       "'1.6.0'"
      ]
     },
     "execution_count": 2,
     "metadata": {},
     "output_type": "execute_result"
    }
   ],
   "source": [
    "p4c.__version__"
   ]
  },
  {
   "cell_type": "code",
   "execution_count": 3,
   "id": "cbe64910-6cf1-4584-afd6-19e9564fed7c",
   "metadata": {},
   "outputs": [
    {
     "name": "stdout",
     "output_type": "stream",
     "text": [
      "You are connected to Cytoscape!\n"
     ]
    },
    {
     "data": {
      "text/plain": [
       "'You are connected to Cytoscape!'"
      ]
     },
     "execution_count": 3,
     "metadata": {},
     "output_type": "execute_result"
    }
   ],
   "source": [
    "p4c.cytoscape_ping()"
   ]
  },
  {
   "cell_type": "code",
   "execution_count": 52,
   "id": "7d61df66-ec68-4972-b5d4-39f0f69eb11b",
   "metadata": {
    "id": "7d61df66-ec68-4972-b5d4-39f0f69eb11b"
   },
   "outputs": [],
   "source": [
    "def create3Dnetwork(networkLayers, stylexml):\n",
    "    layerTable = pd.read_table(networkLayers, header=None, sep=\"\\t\")\n",
    "    networkSUID = layerTable.apply(importLayer, axis=1)\n",
    "    layerTable = pd.concat([layerTable, networkSUID], axis=1)\n",
    "    nodetables = layerTable.apply(getNodeTableWithLayerinfo, axis=1)\n",
    "    layeredNodes = getLayeredNodes(nodetables)\n",
    "    edgetables = layerTable.apply(getEdgeTableWithLayerinfo, axis=1)\n",
    "    layeredEdges = pd.concat(edgetables.tolist())\n",
    "    # layeredNodes.to_csv(\"layeredNodes.csv\")\n",
    "    # layeredEdges.to_csv(\"layeredEdges.csv\")\n",
    "    p4c.commands_post('cy3d set renderer')\n",
    "    suID = p4c.create_network_from_data_frames(layeredNodes.astype(str), layeredEdges.astype(str))\n",
    "    setTransomicStyle(stylexml, suID)\n",
    "    return suID"
   ]
  },
  {
   "cell_type": "code",
   "execution_count": 47,
   "id": "fee02b8f-0f74-49ae-8726-c066358c6176",
   "metadata": {
    "id": "fee02b8f-0f74-49ae-8726-c066358c6176"
   },
   "outputs": [],
   "source": [
    "def importLayer(row: pd.Series) -> int:\n",
    "    #print(row.array)\n",
    "    #getKgml(row.array[1])\n",
    "    r = requests.get(\"https://rest.kegg.jp/get/\" + row.array[1] + \"/kgml\")\n",
    "    kgml = row.array[1] + \".xml\"\n",
    "    f = open(kgml, \"w\")\n",
    "    f.write(r.text)\n",
    "    f.close()    \n",
    "    print(\"Importing \" + kgml)\n",
    "    res = p4c.import_network_from_file(kgml)\n",
    "    time.sleep(3)\n",
    "    xy = p4c.get_table_columns(table='node', columns=['KEGG_NODE_X', 'KEGG_NODE_Y'])\n",
    "    xy = xy.rename(columns={\"KEGG_NODE_X\": \"x_location\", \"KEGG_NODE_Y\": \"y_location\"})\n",
    "    p4c.load_table_data(xy, table_key_column=\"SUID\")\n",
    "    return res['networks'][0]"
   ]
  },
  {
   "cell_type": "code",
   "execution_count": 6,
   "id": "841b7c6e-5f03-4c73-8937-fbe81c71aff6",
   "metadata": {
    "id": "841b7c6e-5f03-4c73-8937-fbe81c71aff6"
   },
   "outputs": [],
   "source": [
    "def getNodeTableWithLayerinfo(row: pd.Series) -> pd.DataFrame:\n",
    "    nt = p4c.get_table_columns(table=\"node\", network=row.array[4])\n",
    "    nt['z_location'] = row.array[2]\n",
    "    nt['LAYER_INDEX'] = row.array[0]\n",
    "    return nt"
   ]
  },
  {
   "cell_type": "code",
   "execution_count": 7,
   "id": "4b277f0b-41ba-495d-86f8-9da4f443a19f",
   "metadata": {
    "id": "4b277f0b-41ba-495d-86f8-9da4f443a19f"
   },
   "outputs": [],
   "source": [
    "def getLayeredNodes(nodetables: pd.DataFrame) -> pd.DataFrame:\n",
    "    nodetable3d = pd.concat(nodetables.array)\n",
    "    return nodetable3d.rename(columns={\"SUID\": \"id\"})"
   ]
  },
  {
   "cell_type": "code",
   "execution_count": 8,
   "id": "186cf6d8-a0b6-46d7-bc2e-5dc2d3faf0da",
   "metadata": {
    "id": "186cf6d8-a0b6-46d7-bc2e-5dc2d3faf0da"
   },
   "outputs": [],
   "source": [
    "def getEdgeTableWithLayerinfo(row: pd.Series) -> pd.DataFrame:\n",
    "    et = p4c.get_table_columns(table=\"edge\", network=row.array[4])\n",
    "    #return et\n",
    "    print(\"Getting edge info. This function is kinda slow...\")\n",
    "    ei = p4c.get_edge_info(et[\"SUID\"].tolist(), network=row.array[4])\n",
    "    print(\"Finished getting edge info.\")\n",
    "    et['source'] = list(map(lambda x: x['source'], ei))\n",
    "    et['target'] = list(map(lambda x: x['target'], ei))\n",
    "    et['LAYER_INDEX'] = row.array[0]\n",
    "    return et"
   ]
  },
  {
   "cell_type": "code",
   "execution_count": 39,
   "id": "4db5bcb5-3b5b-455a-a680-c9deeec69747",
   "metadata": {},
   "outputs": [],
   "source": [
    "def setTransomicStyle(xml, suid) -> None:\n",
    "    #xml is must be a local file path\n",
    "    stylename = p4c.import_visual_styles(xml)\n",
    "    res = p4c.set_visual_style(stylename[0], network = suid)\n",
    "    print(stylename[0] + \" \" + res['message'])"
   ]
  },
  {
   "cell_type": "code",
   "execution_count": 53,
   "id": "793fef20-5f5c-4ca6-b393-571e0dab5007",
   "metadata": {
    "id": "793fef20-5f5c-4ca6-b393-571e0dab5007",
    "outputId": "a613b884-e15f-47ff-eca4-c13a44b66cdc"
   },
   "outputs": [
    {
     "name": "stdout",
     "output_type": "stream",
     "text": [
      "Importing rno04910.xml\n",
      "Importing rno01100.xml\n",
      "Importing rno01100.xml\n",
      "Column \"KEGG_NODE_LABEL_LIST\" has only 73 elements, but should have 74\n",
      "Getting edge info. This function is kinda slow...\n",
      "Finished getting edge info.\n",
      "Column \"KEGG_EDGE_SUBTYPES\" has only 0 elements, but should have 1312\n",
      "Getting edge info. This function is kinda slow...\n",
      "Finished getting edge info.\n",
      "Column \"KEGG_EDGE_SUBTYPES\" has only 0 elements, but should have 1312\n",
      "Getting edge info. This function is kinda slow...\n",
      "Finished getting edge info.\n",
      "Applying default style...\n",
      "Applying preferred layout\n",
      "yugi2014 Visual Style applied.\n"
     ]
    }
   ],
   "source": [
    "suid = create3Dnetwork(\"https://raw.githubusercontent.com/ecell/transomics2cytoscape/master/inst/extdata/usecase1/yugi2014.tsv\", \"yugi2014.xml\")"
   ]
  },
  {
   "cell_type": "code",
   "execution_count": null,
   "id": "88f2df48",
   "metadata": {},
   "outputs": [],
   "source": []
  }
 ],
 "metadata": {
  "colab": {
   "name": "t2c.ipynb",
   "provenance": []
  },
  "kernelspec": {
   "display_name": "Python 3.9.13 ('base')",
   "language": "python",
   "name": "python3"
  },
  "language_info": {
   "codemirror_mode": {
    "name": "ipython",
    "version": 3
   },
   "file_extension": ".py",
   "mimetype": "text/x-python",
   "name": "python",
   "nbconvert_exporter": "python",
   "pygments_lexer": "ipython3",
   "version": "3.9.13"
  },
  "vscode": {
   "interpreter": {
    "hash": "7679561f0aed9ed653ac274968d5c11762eeedfdecea99c2a7f93526e48f469b"
   }
  }
 },
 "nbformat": 4,
 "nbformat_minor": 5
}
